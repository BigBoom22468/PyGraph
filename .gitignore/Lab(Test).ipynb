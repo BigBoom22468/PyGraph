{
 "cells": [
  {
   "cell_type": "code",
   "execution_count": 72,
   "metadata": {
    "collapsed": false
   },
   "outputs": [],
   "source": [
    "# Подключаем библиотечки\n",
    "from numpy import *\n",
    "import matplotlib.pyplot as plt\n",
    "from pylab import rcParams\n",
    "\n",
    "# Размер графика\n",
    "rcParams['figure.figsize'] = 15, 10\n",
    "plt.axis([-0.5, 3.1, -0.5, 6.1])\n",
    "\n",
    "        #t = linspace(0, 3, 51)\n",
    "        #y = t**2*exp(-t**2)\n",
    "\n",
    "# Данные\n",
    "t = [0,0.5,1,1.5,2,2.5,3]\n",
    "y1 = [0,1,2,3,4,5,6]\n",
    "y2 = [2,2,2,2,2,2,2]\n",
    "y3 = [0,2,1,0,1,2,1]\n",
    "\n",
    "# !Создание графика\n",
    "plt.plot(t, y1, 'ro',    # маркеры из зеленых треугольников\n",
    "         t, y2, 'gs',   # синяя штриховая\n",
    "         t, y3, 'bD')   # красные круглые маркеры, \n",
    "                         # соединенные сплошной линией\n",
    "# Надписи на графике\n",
    "plt.xlabel('t')\n",
    "plt.ylabel('y')\n",
    "plt.title('Plotting with markers')\n",
    "plt.legend(['t^2*exp(-t^2)',\n",
    "            't^4*exp(-t^2)',\n",
    "            't^6*exp(-t^2)'],\n",
    "            loc='upper left')\n",
    "\n",
    "# !Построение графика\n",
    "plt.grid()\n",
    "plt.savefig('name_of_plot.png')\n",
    "plt.show()\n"
   ]
  },
  {
   "cell_type": "code",
   "execution_count": null,
   "metadata": {
    "collapsed": true
   },
   "outputs": [],
   "source": []
  }
 ],
 "metadata": {
  "kernelspec": {
   "display_name": "Python 3",
   "language": "python",
   "name": "python3"
  },
  "language_info": {
   "codemirror_mode": {
    "name": "ipython",
    "version": 3
   },
   "file_extension": ".py",
   "mimetype": "text/x-python",
   "name": "python",
   "nbconvert_exporter": "python",
   "pygments_lexer": "ipython3",
   "version": "3.5.1"
  }
 },
 "nbformat": 4,
 "nbformat_minor": 0
}
